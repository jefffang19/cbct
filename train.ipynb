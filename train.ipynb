{
 "cells": [
  {
   "cell_type": "code",
   "execution_count": 23,
   "id": "interpreted-deployment",
   "metadata": {},
   "outputs": [],
   "source": [
    "import numpy as np\n",
    "import pydicom\n",
    "from pydicom.pixel_data_handlers.util import apply_voi_lut\n",
    "import os\n",
    "import glob\n",
    "\n",
    "import matplotlib.pyplot as plt\n",
    "%matplotlib inline"
   ]
  },
  {
   "cell_type": "markdown",
   "id": "short-glance",
   "metadata": {},
   "source": [
    "# Read Dicom"
   ]
  },
  {
   "cell_type": "code",
   "execution_count": 24,
   "id": "verbal-spring",
   "metadata": {},
   "outputs": [],
   "source": [
    "def read_dicom(path):\n",
    "    g = glob.glob(os.path.join(path, '*.dcm'))\n",
    "    slices = [pydicom.read_file(s) for s in g]\n",
    "    slices.sort(key=lambda x: int(x.InstanceNumber))\n",
    "    print('RescaleIntercept :{}'.format(slices[0].RescaleIntercept))\n",
    "    print('RescaleSlope :{}'.format(slices[0].RescaleSlope))\n",
    "    print('SliceThickness :{}'.format(slices[0].SliceThickness))\n",
    "    print('Pixel Spacing  :{}'.format(slices[0].PixelSpacing ))\n",
    "\n",
    "    return slices"
   ]
  },
  {
   "cell_type": "code",
   "execution_count": 25,
   "id": "english-recall",
   "metadata": {},
   "outputs": [],
   "source": [
    "def hu_window(scan, window_level=40, window_width=80, show_hist = False):\n",
    "    scan = scan.pixel_array.copy()\n",
    "    window = [window_level-window_width/2, window_width/2-window_level]\n",
    "    \n",
    "    scan = np.where(scan < window[0], window[0], scan)\n",
    "    scan = np.where(scan > window[1], window[1], scan)\n",
    "    \n",
    "    if show_hist:\n",
    "        plt.figure(0, figsize=(6,6))\n",
    "        plt.imshow(scan, 'gray')\n",
    "\n",
    "        plt.figure(1, figsize=(6,6))\n",
    "        plt.hist(scan.flatten(), color='c')\n",
    "        plt.xlabel(\"Hounsfield Units (HU)\")\n",
    "        plt.ylabel(\"Frequency\")\n",
    "        plt.show()\n",
    "\n",
    "    return scan"
   ]
  },
  {
   "cell_type": "code",
   "execution_count": 26,
   "id": "formal-retro",
   "metadata": {},
   "outputs": [],
   "source": [
    "def show_raw_pixel(slices):\n",
    "    #讀出像素值並且儲存成numpy的格式\n",
    "    image = hu_window(slices, window_level=0, window_width=1000,  show_hist=False)\n",
    "#     plt.figure(figsize = (12,12))\n",
    "    plt.imshow(image, cmap=plt.cm.gray)\n",
    "    plt.show()"
   ]
  },
  {
   "cell_type": "code",
   "execution_count": 27,
   "id": "accurate-welding",
   "metadata": {},
   "outputs": [],
   "source": [
    "# return  a region where cbct images aren't all black\n",
    "def valid_slices(cbcts, cts):\n",
    "    found_start = False\n",
    "    start = 0\n",
    "    end = -1\n",
    "    \n",
    "    # iterate through cbct slices, and find which regions aren't all black (-1000)\n",
    "    for idx, sli in enumerate(cbcts):\n",
    "        image = sli.pixel_array\n",
    "        \n",
    "        if not found_start and len(np.unique(image))!=1:\n",
    "            start = idx\n",
    "            found_start = True\n",
    "                                   \n",
    "        elif found_start and len(np.unique(image)) == 1:\n",
    "            end = idx\n",
    "            break\n",
    "        \n",
    "    return start, end\n",
    "                                   "
   ]
  },
  {
   "cell_type": "markdown",
   "id": "breathing-samba",
   "metadata": {},
   "source": [
    "## read two slices"
   ]
  },
  {
   "cell_type": "code",
   "execution_count": 28,
   "id": "lesser-assist",
   "metadata": {},
   "outputs": [
    {
     "data": {
      "text/plain": [
       "['/home/jeff/文件/004_cbct',\n",
       " '/home/jeff/文件/004_ct',\n",
       " '/home/jeff/文件/006_cbct',\n",
       " '/home/jeff/文件/006_ct',\n",
       " '/home/jeff/文件/007_cbct',\n",
       " '/home/jeff/文件/007_ct',\n",
       " '/home/jeff/文件/012_cbct',\n",
       " '/home/jeff/文件/012_ct']"
      ]
     },
     "execution_count": 28,
     "metadata": {},
     "output_type": "execute_result"
    }
   ],
   "source": [
    "case_path = '/home/jeff/文件/*_*'\n",
    "paths = sorted(glob.glob('/home/jeff/文件/*_*'))\n",
    "paths"
   ]
  },
  {
   "cell_type": "code",
   "execution_count": 34,
   "id": "municipal-fisher",
   "metadata": {},
   "outputs": [
    {
     "name": "stdout",
     "output_type": "stream",
     "text": [
      "/home/jeff/文件/004_cbct\n",
      "cbct\n",
      "RescaleIntercept :0\n",
      "RescaleSlope :1\n",
      "SliceThickness :5\n",
      "Pixel Spacing  :[.9765625, .9765625]\n",
      "ct\n",
      "RescaleIntercept :0\n",
      "RescaleSlope :1\n",
      "SliceThickness :5\n",
      "Pixel Spacing  :[.9765625, .9765625]\n",
      "27\n",
      "27\n",
      "/home/jeff/文件/006_cbct\n",
      "cbct\n",
      "RescaleIntercept :0\n",
      "RescaleSlope :1\n",
      "SliceThickness :5\n",
      "Pixel Spacing  :[.9765625, .9765625]\n",
      "ct\n",
      "RescaleIntercept :0\n",
      "RescaleSlope :1\n",
      "SliceThickness :5\n",
      "Pixel Spacing  :[.9765625, .9765625]\n",
      "28\n",
      "28\n",
      "/home/jeff/文件/007_cbct\n",
      "cbct\n",
      "RescaleIntercept :0\n",
      "RescaleSlope :1\n",
      "SliceThickness :5\n",
      "Pixel Spacing  :[.9765625, .9765625]\n",
      "ct\n",
      "RescaleIntercept :0\n",
      "RescaleSlope :1\n",
      "SliceThickness :5\n",
      "Pixel Spacing  :[.9765625, .9765625]\n",
      "28\n",
      "28\n",
      "/home/jeff/文件/012_cbct\n",
      "cbct\n",
      "RescaleIntercept :0\n",
      "RescaleSlope :1\n",
      "SliceThickness :5\n",
      "Pixel Spacing  :[.8828125, .8828125]\n",
      "ct\n",
      "RescaleIntercept :0\n",
      "RescaleSlope :1\n",
      "SliceThickness :5\n",
      "Pixel Spacing  :[.8828125, .8828125]\n",
      "27\n",
      "27\n"
     ]
    }
   ],
   "source": [
    "for i in range(0, len(paths), 2):\n",
    "    print(paths[i])\n",
    "    print('cbct')\n",
    "    cbct_slices = read_dicom(paths[i])\n",
    "    print('ct')\n",
    "    ct_slices = read_dicom(paths[i+1])\n",
    "    \n",
    "    region = valid_slices(cbct_slices, ct_slices)\n",
    "    # ditch first and last 3\n",
    "    print(len(cbct_slices[region[0] + 3: region[1] - 3]))\n",
    "    print(len(ct_slices[region[0] + 3: region[1] - 3]))"
   ]
  },
  {
   "cell_type": "code",
   "execution_count": 35,
   "id": "duplicate-norwegian",
   "metadata": {},
   "outputs": [],
   "source": [
    "from torch.utils.data import DataLoader\n",
    "from torch.utils.data import Dataset as BaseDataset\n",
    "import os\n",
    "import numpy as np\n",
    "import cv2\n",
    "import matplotlib.pyplot as plt"
   ]
  },
  {
   "cell_type": "code",
   "execution_count": 39,
   "id": "impressed-adjustment",
   "metadata": {},
   "outputs": [],
   "source": [
    "class Dataset(BaseDataset):\n",
    "    \"\"\"\n",
    "    Args:\n",
    "        path (str): path to dataset\n",
    "        x_channel (int): number of channels for X(images)\n",
    "        y_channel (int): number of channels for y(masks)\n",
    "        do_resize (tuple of ints): resize the image and mask, if None, DO NOT do resize\n",
    "        augmentation (albumentations.Compose): data transfromation pipeline \n",
    "            (e.g. flip, scale, etc.)\n",
    "        preprocessing (albumentations.Compose): data preprocessing \n",
    "            (e.g. noralization, shape manipulation, etc.)\n",
    "    \n",
    "    \"\"\"\n",
    "    def __init__(\n",
    "            self,\n",
    "            path,\n",
    "    ):\n",
    "        paths = sorted(glob.glob(path))\n",
    "        self.xs = []\n",
    "        self.ys = []\n",
    "        \n",
    "        # read cbct and ct\n",
    "        for i in range(0, len(paths), 2):\n",
    "            cbct_slices = read_dicom(paths[i])\n",
    "            ct_slices = read_dicom(paths[i+1])\n",
    "\n",
    "            region = valid_slices(cbct_slices, ct_slices)\n",
    "            # ditch first and last 3\n",
    "            self.xs = self.xs + cbct_slices[region[0] + 3: region[1] - 3]\n",
    "            self.ys = self.ys + ct_slices[region[0] + 3: region[1] - 3]\n",
    "            \n",
    "        # set both cbct and ct to same WL and WW (0, 1000)\n",
    "        self.xs = [hu_window(cbct, window_level=0, window_width=1000,  show_hist=False) for cbct in self.xs]\n",
    "        self.ys = [hu_window(ct, window_level=0, window_width=1000,  show_hist=False) for ct in self.ys]\n",
    "        \n",
    "    \n",
    "    def __getitem__(self, i):\n",
    "\n",
    "        # read img\n",
    "        x = self.xs[i]\n",
    "        y = self.ys[i]\n",
    "\n",
    "        return x, y\n",
    "        \n",
    "    def __len__(self):\n",
    "        return len(self.xs)"
   ]
  },
  {
   "cell_type": "code",
   "execution_count": 40,
   "id": "equipped-patch",
   "metadata": {},
   "outputs": [
    {
     "name": "stdout",
     "output_type": "stream",
     "text": [
      "RescaleIntercept :0\n",
      "RescaleSlope :1\n",
      "SliceThickness :5\n",
      "Pixel Spacing  :[.9765625, .9765625]\n",
      "RescaleIntercept :0\n",
      "RescaleSlope :1\n",
      "SliceThickness :5\n",
      "Pixel Spacing  :[.9765625, .9765625]\n",
      "RescaleIntercept :0\n",
      "RescaleSlope :1\n",
      "SliceThickness :5\n",
      "Pixel Spacing  :[.9765625, .9765625]\n",
      "RescaleIntercept :0\n",
      "RescaleSlope :1\n",
      "SliceThickness :5\n",
      "Pixel Spacing  :[.9765625, .9765625]\n",
      "RescaleIntercept :0\n",
      "RescaleSlope :1\n",
      "SliceThickness :5\n",
      "Pixel Spacing  :[.9765625, .9765625]\n",
      "RescaleIntercept :0\n",
      "RescaleSlope :1\n",
      "SliceThickness :5\n",
      "Pixel Spacing  :[.9765625, .9765625]\n",
      "RescaleIntercept :0\n",
      "RescaleSlope :1\n",
      "SliceThickness :5\n",
      "Pixel Spacing  :[.8828125, .8828125]\n",
      "RescaleIntercept :0\n",
      "RescaleSlope :1\n",
      "SliceThickness :5\n",
      "Pixel Spacing  :[.8828125, .8828125]\n"
     ]
    }
   ],
   "source": [
    "dataset = Dataset(case_path)"
   ]
  },
  {
   "cell_type": "code",
   "execution_count": 41,
   "id": "strong-shakespeare",
   "metadata": {},
   "outputs": [
    {
     "data": {
      "text/plain": [
       "110"
      ]
     },
     "execution_count": 41,
     "metadata": {},
     "output_type": "execute_result"
    }
   ],
   "source": [
    "len(dataset)"
   ]
  },
  {
   "cell_type": "code",
   "execution_count": 43,
   "id": "returning-killer",
   "metadata": {},
   "outputs": [],
   "source": [
    "x, y = dataset[20]"
   ]
  },
  {
   "cell_type": "code",
   "execution_count": 46,
   "id": "potential-preserve",
   "metadata": {},
   "outputs": [
    {
     "data": {
      "text/plain": [
       "(<matplotlib.image.AxesImage at 0x7f4fffe747b8>,)"
      ]
     },
     "execution_count": 46,
     "metadata": {},
     "output_type": "execute_result"
    },
    {
     "data": {
      "image/png": "[encoded data removed]",
      "text/plain": [
       "<Figure size 432x288 with 1 Axes>"
      ]
     },
     "metadata": {
      "needs_background": "light"
     },
     "output_type": "display_data"
    }
   ],
   "source": [
    "plt.imshow(x, 'gray'),"
   ]
  },
  {
   "cell_type": "code",
   "execution_count": 47,
   "id": "concerned-pantyhose",
   "metadata": {},
   "outputs": [
    {
     "data": {
      "text/plain": [
       "<matplotlib.image.AxesImage at 0x7f4fff8b7b38>"
      ]
     },
     "execution_count": 47,
     "metadata": {},
     "output_type": "execute_result"
    },
    {
     "data": {
      "image/png": "[encoded data removed]",
      "text/plain": [
       "<Figure size 432x288 with 1 Axes>"
      ]
     },
     "metadata": {
      "needs_background": "light"
     },
     "output_type": "display_data"
    }
   ],
   "source": [
    "plt.imshow(y, 'gray')"
   ]
  },
  {
   "cell_type": "markdown",
   "id": "sustained-drive",
   "metadata": {},
   "source": [
    "# training"
   ]
  },
  {
   "cell_type": "code",
   "execution_count": 48,
   "id": "offensive-serve",
   "metadata": {},
   "outputs": [],
   "source": [
    "import segmentation_models_pytorch as smp\n",
    "import torch\n",
    "import torch.nn as nn"
   ]
  },
  {
   "cell_type": "code",
   "execution_count": 49,
   "id": "automated-immunology",
   "metadata": {},
   "outputs": [],
   "source": [
    "class MSELoss(nn.MSELoss):\n",
    "  def __init__(self):\n",
    "    nn.MSELoss.__init__(self)\n",
    "    self.__name__ = 'mse_loss'"
   ]
  },
  {
   "cell_type": "code",
   "execution_count": 50,
   "id": "criminal-benchmark",
   "metadata": {},
   "outputs": [],
   "source": [
    "loss = MSELoss()\n",
    "metrics = [\n",
    "    smp.utils.metrics.IoU(threshold=0.5),\n",
    "]"
   ]
  },
  {
   "cell_type": "code",
   "execution_count": 51,
   "id": "absent-broadcast",
   "metadata": {},
   "outputs": [],
   "source": [
    "train_loaders = torch.utils.data.DataLoader(dataset, batch_size=4, shuffle=True, num_workers=4)"
   ]
  },
  {
   "cell_type": "code",
   "execution_count": 52,
   "id": "facial-symposium",
   "metadata": {},
   "outputs": [
    {
     "name": "stdout",
     "output_type": "stream",
     "text": [
      "using gpu\n"
     ]
    }
   ],
   "source": [
    "import segmentation_models_pytorch as smp\n",
    "import torch\n",
    "\n",
    "model = smp.Unet(encoder_weights=None, in_channels=1, classes=1)\n",
    "\n",
    "DEVICE = 'cpu'\n",
    "if torch.cuda.is_available():\n",
    "  print('using gpu')\n",
    "  DEVICE = 'cuda'\n",
    "  model.cuda()\n",
    "else:\n",
    "  print('using cpu')"
   ]
  },
  {
   "cell_type": "code",
   "execution_count": 53,
   "id": "saved-digit",
   "metadata": {},
   "outputs": [],
   "source": [
    "optimizer = torch.optim.Adam([ \n",
    "    dict(params=model.parameters(), lr=1e-4),\n",
    "])"
   ]
  },
  {
   "cell_type": "code",
   "execution_count": 54,
   "id": "sealed-airplane",
   "metadata": {},
   "outputs": [],
   "source": [
    "\n",
    "# create epoch runners \n",
    "# it is a simple loop of iterating over dataloader`s samples\n",
    "train_epoch = smp.utils.train.TrainEpoch(\n",
    "    model, \n",
    "    loss=loss, \n",
    "    metrics=metrics, \n",
    "    optimizer=optimizer,\n",
    "    device=DEVICE,\n",
    "    verbose=True,\n",
    ")"
   ]
  },
  {
   "cell_type": "code",
   "execution_count": 55,
   "id": "corporate-damages",
   "metadata": {
    "collapsed": true,
    "jupyter": {
     "outputs_hidden": true
    }
   },
   "outputs": [
    {
     "name": "stdout",
     "output_type": "stream",
     "text": [
      "----------------------------------------------------------------\n",
      "        Layer (type)               Output Shape         Param #\n",
      "================================================================\n",
      "            Conv2d-1         [-1, 64, 256, 256]           3,136\n",
      "       BatchNorm2d-2         [-1, 64, 256, 256]             128\n",
      "              ReLU-3         [-1, 64, 256, 256]               0\n",
      "         MaxPool2d-4         [-1, 64, 128, 128]               0\n",
      "            Conv2d-5         [-1, 64, 128, 128]          36,864\n",
      "       BatchNorm2d-6         [-1, 64, 128, 128]             128\n",
      "              ReLU-7         [-1, 64, 128, 128]               0\n",
      "            Conv2d-8         [-1, 64, 128, 128]          36,864\n",
      "       BatchNorm2d-9         [-1, 64, 128, 128]             128\n",
      "             ReLU-10         [-1, 64, 128, 128]               0\n",
      "       BasicBlock-11         [-1, 64, 128, 128]               0\n",
      "           Conv2d-12         [-1, 64, 128, 128]          36,864\n",
      "      BatchNorm2d-13         [-1, 64, 128, 128]             128\n",
      "             ReLU-14         [-1, 64, 128, 128]               0\n",
      "           Conv2d-15         [-1, 64, 128, 128]          36,864\n",
      "      BatchNorm2d-16         [-1, 64, 128, 128]             128\n",
      "             ReLU-17         [-1, 64, 128, 128]               0\n",
      "       BasicBlock-18         [-1, 64, 128, 128]               0\n",
      "           Conv2d-19         [-1, 64, 128, 128]          36,864\n",
      "      BatchNorm2d-20         [-1, 64, 128, 128]             128\n",
      "             ReLU-21         [-1, 64, 128, 128]               0\n",
      "           Conv2d-22         [-1, 64, 128, 128]          36,864\n",
      "      BatchNorm2d-23         [-1, 64, 128, 128]             128\n",
      "             ReLU-24         [-1, 64, 128, 128]               0\n",
      "       BasicBlock-25         [-1, 64, 128, 128]               0\n",
      "           Conv2d-26          [-1, 128, 64, 64]          73,728\n",
      "      BatchNorm2d-27          [-1, 128, 64, 64]             256\n",
      "             ReLU-28          [-1, 128, 64, 64]               0\n",
      "           Conv2d-29          [-1, 128, 64, 64]         147,456\n",
      "      BatchNorm2d-30          [-1, 128, 64, 64]             256\n",
      "           Conv2d-31          [-1, 128, 64, 64]           8,192\n",
      "      BatchNorm2d-32          [-1, 128, 64, 64]             256\n",
      "             ReLU-33          [-1, 128, 64, 64]               0\n",
      "       BasicBlock-34          [-1, 128, 64, 64]               0\n",
      "           Conv2d-35          [-1, 128, 64, 64]         147,456\n",
      "      BatchNorm2d-36          [-1, 128, 64, 64]             256\n",
      "             ReLU-37          [-1, 128, 64, 64]               0\n",
      "           Conv2d-38          [-1, 128, 64, 64]         147,456\n",
      "      BatchNorm2d-39          [-1, 128, 64, 64]             256\n",
      "             ReLU-40          [-1, 128, 64, 64]               0\n",
      "       BasicBlock-41          [-1, 128, 64, 64]               0\n",
      "           Conv2d-42          [-1, 128, 64, 64]         147,456\n",
      "      BatchNorm2d-43          [-1, 128, 64, 64]             256\n",
      "             ReLU-44          [-1, 128, 64, 64]               0\n",
      "           Conv2d-45          [-1, 128, 64, 64]         147,456\n",
      "      BatchNorm2d-46          [-1, 128, 64, 64]             256\n",
      "             ReLU-47          [-1, 128, 64, 64]               0\n",
      "       BasicBlock-48          [-1, 128, 64, 64]               0\n",
      "           Conv2d-49          [-1, 128, 64, 64]         147,456\n",
      "      BatchNorm2d-50          [-1, 128, 64, 64]             256\n",
      "             ReLU-51          [-1, 128, 64, 64]               0\n",
      "           Conv2d-52          [-1, 128, 64, 64]         147,456\n",
      "      BatchNorm2d-53          [-1, 128, 64, 64]             256\n",
      "             ReLU-54          [-1, 128, 64, 64]               0\n",
      "       BasicBlock-55          [-1, 128, 64, 64]               0\n",
      "           Conv2d-56          [-1, 256, 32, 32]         294,912\n",
      "      BatchNorm2d-57          [-1, 256, 32, 32]             512\n",
      "             ReLU-58          [-1, 256, 32, 32]               0\n",
      "           Conv2d-59          [-1, 256, 32, 32]         589,824\n",
      "      BatchNorm2d-60          [-1, 256, 32, 32]             512\n",
      "           Conv2d-61          [-1, 256, 32, 32]          32,768\n",
      "      BatchNorm2d-62          [-1, 256, 32, 32]             512\n",
      "             ReLU-63          [-1, 256, 32, 32]               0\n",
      "       BasicBlock-64          [-1, 256, 32, 32]               0\n",
      "           Conv2d-65          [-1, 256, 32, 32]         589,824\n",
      "      BatchNorm2d-66          [-1, 256, 32, 32]             512\n",
      "             ReLU-67          [-1, 256, 32, 32]               0\n",
      "           Conv2d-68          [-1, 256, 32, 32]         589,824\n",
      "      BatchNorm2d-69          [-1, 256, 32, 32]             512\n",
      "             ReLU-70          [-1, 256, 32, 32]               0\n",
      "       BasicBlock-71          [-1, 256, 32, 32]               0\n",
      "           Conv2d-72          [-1, 256, 32, 32]         589,824\n",
      "      BatchNorm2d-73          [-1, 256, 32, 32]             512\n",
      "             ReLU-74          [-1, 256, 32, 32]               0\n",
      "           Conv2d-75          [-1, 256, 32, 32]         589,824\n",
      "      BatchNorm2d-76          [-1, 256, 32, 32]             512\n",
      "             ReLU-77          [-1, 256, 32, 32]               0\n",
      "       BasicBlock-78          [-1, 256, 32, 32]               0\n",
      "           Conv2d-79          [-1, 256, 32, 32]         589,824\n",
      "      BatchNorm2d-80          [-1, 256, 32, 32]             512\n",
      "             ReLU-81          [-1, 256, 32, 32]               0\n",
      "           Conv2d-82          [-1, 256, 32, 32]         589,824\n",
      "      BatchNorm2d-83          [-1, 256, 32, 32]             512\n",
      "             ReLU-84          [-1, 256, 32, 32]               0\n",
      "       BasicBlock-85          [-1, 256, 32, 32]               0\n",
      "           Conv2d-86          [-1, 256, 32, 32]         589,824\n",
      "      BatchNorm2d-87          [-1, 256, 32, 32]             512\n",
      "             ReLU-88          [-1, 256, 32, 32]               0\n",
      "           Conv2d-89          [-1, 256, 32, 32]         589,824\n",
      "      BatchNorm2d-90          [-1, 256, 32, 32]             512\n",
      "             ReLU-91          [-1, 256, 32, 32]               0\n",
      "       BasicBlock-92          [-1, 256, 32, 32]               0\n",
      "           Conv2d-93          [-1, 256, 32, 32]         589,824\n",
      "      BatchNorm2d-94          [-1, 256, 32, 32]             512\n",
      "             ReLU-95          [-1, 256, 32, 32]               0\n",
      "           Conv2d-96          [-1, 256, 32, 32]         589,824\n",
      "      BatchNorm2d-97          [-1, 256, 32, 32]             512\n",
      "             ReLU-98          [-1, 256, 32, 32]               0\n",
      "       BasicBlock-99          [-1, 256, 32, 32]               0\n",
      "          Conv2d-100          [-1, 512, 16, 16]       1,179,648\n",
      "     BatchNorm2d-101          [-1, 512, 16, 16]           1,024\n",
      "            ReLU-102          [-1, 512, 16, 16]               0\n",
      "          Conv2d-103          [-1, 512, 16, 16]       2,359,296\n",
      "     BatchNorm2d-104          [-1, 512, 16, 16]           1,024\n",
      "          Conv2d-105          [-1, 512, 16, 16]         131,072\n",
      "     BatchNorm2d-106          [-1, 512, 16, 16]           1,024\n",
      "            ReLU-107          [-1, 512, 16, 16]               0\n",
      "      BasicBlock-108          [-1, 512, 16, 16]               0\n",
      "          Conv2d-109          [-1, 512, 16, 16]       2,359,296\n",
      "     BatchNorm2d-110          [-1, 512, 16, 16]           1,024\n",
      "            ReLU-111          [-1, 512, 16, 16]               0\n",
      "          Conv2d-112          [-1, 512, 16, 16]       2,359,296\n",
      "     BatchNorm2d-113          [-1, 512, 16, 16]           1,024\n",
      "            ReLU-114          [-1, 512, 16, 16]               0\n",
      "      BasicBlock-115          [-1, 512, 16, 16]               0\n",
      "          Conv2d-116          [-1, 512, 16, 16]       2,359,296\n",
      "     BatchNorm2d-117          [-1, 512, 16, 16]           1,024\n",
      "            ReLU-118          [-1, 512, 16, 16]               0\n",
      "          Conv2d-119          [-1, 512, 16, 16]       2,359,296\n",
      "     BatchNorm2d-120          [-1, 512, 16, 16]           1,024\n",
      "            ReLU-121          [-1, 512, 16, 16]               0\n",
      "      BasicBlock-122          [-1, 512, 16, 16]               0\n",
      "   ResNetEncoder-123  [[-1, 1, 512, 512], [-1, 64, 256, 256], [-1, 64, 128, 128], [-1, 128, 64, 64], [-1, 256, 32, 32], [-1, 512, 16, 16]]               0\n",
      "        Identity-124          [-1, 512, 16, 16]               0\n",
      "        Identity-125          [-1, 768, 32, 32]               0\n",
      "       Attention-126          [-1, 768, 32, 32]               0\n",
      "          Conv2d-127          [-1, 256, 32, 32]       1,769,472\n",
      "     BatchNorm2d-128          [-1, 256, 32, 32]             512\n",
      "            ReLU-129          [-1, 256, 32, 32]               0\n",
      "          Conv2d-130          [-1, 256, 32, 32]         589,824\n",
      "     BatchNorm2d-131          [-1, 256, 32, 32]             512\n",
      "            ReLU-132          [-1, 256, 32, 32]               0\n",
      "        Identity-133          [-1, 256, 32, 32]               0\n",
      "       Attention-134          [-1, 256, 32, 32]               0\n",
      "    DecoderBlock-135          [-1, 256, 32, 32]               0\n",
      "        Identity-136          [-1, 384, 64, 64]               0\n",
      "       Attention-137          [-1, 384, 64, 64]               0\n",
      "          Conv2d-138          [-1, 128, 64, 64]         442,368\n",
      "     BatchNorm2d-139          [-1, 128, 64, 64]             256\n",
      "            ReLU-140          [-1, 128, 64, 64]               0\n",
      "          Conv2d-141          [-1, 128, 64, 64]         147,456\n",
      "     BatchNorm2d-142          [-1, 128, 64, 64]             256\n",
      "            ReLU-143          [-1, 128, 64, 64]               0\n",
      "        Identity-144          [-1, 128, 64, 64]               0\n",
      "       Attention-145          [-1, 128, 64, 64]               0\n",
      "    DecoderBlock-146          [-1, 128, 64, 64]               0\n",
      "        Identity-147        [-1, 192, 128, 128]               0\n",
      "       Attention-148        [-1, 192, 128, 128]               0\n",
      "          Conv2d-149         [-1, 64, 128, 128]         110,592\n",
      "     BatchNorm2d-150         [-1, 64, 128, 128]             128\n",
      "            ReLU-151         [-1, 64, 128, 128]               0\n",
      "          Conv2d-152         [-1, 64, 128, 128]          36,864\n",
      "     BatchNorm2d-153         [-1, 64, 128, 128]             128\n",
      "            ReLU-154         [-1, 64, 128, 128]               0\n",
      "        Identity-155         [-1, 64, 128, 128]               0\n",
      "       Attention-156         [-1, 64, 128, 128]               0\n",
      "    DecoderBlock-157         [-1, 64, 128, 128]               0\n",
      "        Identity-158        [-1, 128, 256, 256]               0\n",
      "       Attention-159        [-1, 128, 256, 256]               0\n",
      "          Conv2d-160         [-1, 32, 256, 256]          36,864\n",
      "     BatchNorm2d-161         [-1, 32, 256, 256]              64\n",
      "            ReLU-162         [-1, 32, 256, 256]               0\n",
      "          Conv2d-163         [-1, 32, 256, 256]           9,216\n",
      "     BatchNorm2d-164         [-1, 32, 256, 256]              64\n",
      "            ReLU-165         [-1, 32, 256, 256]               0\n",
      "        Identity-166         [-1, 32, 256, 256]               0\n",
      "       Attention-167         [-1, 32, 256, 256]               0\n",
      "    DecoderBlock-168         [-1, 32, 256, 256]               0\n",
      "          Conv2d-169         [-1, 16, 512, 512]           4,608\n",
      "     BatchNorm2d-170         [-1, 16, 512, 512]              32\n",
      "            ReLU-171         [-1, 16, 512, 512]               0\n",
      "          Conv2d-172         [-1, 16, 512, 512]           2,304\n",
      "     BatchNorm2d-173         [-1, 16, 512, 512]              32\n",
      "            ReLU-174         [-1, 16, 512, 512]               0\n",
      "        Identity-175         [-1, 16, 512, 512]               0\n",
      "       Attention-176         [-1, 16, 512, 512]               0\n",
      "    DecoderBlock-177         [-1, 16, 512, 512]               0\n",
      "     UnetDecoder-178         [-1, 16, 512, 512]               0\n",
      "          Conv2d-179          [-1, 1, 512, 512]             145\n",
      "        Identity-180          [-1, 1, 512, 512]               0\n",
      "        Identity-181          [-1, 1, 512, 512]               0\n",
      "      Activation-182          [-1, 1, 512, 512]               0\n",
      "================================================================\n",
      "Total params: 24,430,097\n",
      "Trainable params: 24,430,097\n",
      "Non-trainable params: 0\n",
      "----------------------------------------------------------------\n",
      "Input size (MB): 1.00\n",
      "Forward/backward pass size (MB): 1314.00\n",
      "Params size (MB): 93.19\n",
      "Estimated Total Size (MB): 1408.19\n",
      "----------------------------------------------------------------\n"
     ]
    }
   ],
   "source": [
    "\n",
    "from torchsummary import summary\n",
    "\n",
    "if torch.cuda.is_available():\n",
    "  summary(model.cuda(), (1, 512, 512))\n",
    "else:\n",
    "  summary(model, (1, 512, 512))"
   ]
  },
  {
   "cell_type": "code",
   "execution_count": null,
   "id": "outdoor-macedonia",
   "metadata": {},
   "outputs": [],
   "source": [
    "save_model_path = 'save_model.pth'"
   ]
  },
  {
   "cell_type": "code",
   "execution_count": null,
   "id": "official-diversity",
   "metadata": {},
   "outputs": [],
   "source": [
    "mse_loss = []\n",
    "\n",
    "EPOCH = 100\n",
    "max_score = 0\n",
    "\n",
    "for i in range(EPOCH):\n",
    "    \n",
    "    print('\\nEpoch: {}'.format(i))\n",
    "\n",
    "    train_logs = train_epoch.run(train_loaders)\n",
    "    valid_logs = valid_epoch.run(test_loaders)\n",
    "\n",
    "    # save dice loss\n",
    "    mse_loss.append(valid_logs['mse_loss'])\n",
    "\n",
    "    if i == 75:\n",
    "        optimizer.param_groups[0]['lr'] = 1e-5\n",
    "        print('Decrease decoder learning rate to 1e-5!')\n",
    "\n",
    "# save last model\n",
    "torch.save(model.state_dict(), save_model_path)"
   ]
  },
  {
   "cell_type": "code",
   "execution_count": null,
   "id": "automotive-handbook",
   "metadata": {},
   "outputs": [],
   "source": [
    "plt.plot(mse_loss)\n",
    "plt.ylabel('mse_loss')\n",
    "plt.show()"
   ]
  }
 ],
 "metadata": {
  "kernelspec": {
   "display_name": "Python 3",
   "language": "python",
   "name": "python3"
  },
  "language_info": {
   "codemirror_mode": {
    "name": "ipython",
    "version": 3
   },
   "file_extension": ".py",
   "mimetype": "text/x-python",
   "name": "python",
   "nbconvert_exporter": "python",
   "pygments_lexer": "ipython3",
   "version": "3.6.12"
  }
 },
 "nbformat": 4,
 "nbformat_minor": 5
}
